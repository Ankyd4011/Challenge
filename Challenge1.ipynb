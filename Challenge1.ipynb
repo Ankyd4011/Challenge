{
  "nbformat": 4,
  "nbformat_minor": 0,
  "metadata": {
    "colab": {
      "provenance": [],
      "authorship_tag": "ABX9TyNJxyVjf7RPEJTvHSeNFMWh",
      "include_colab_link": true
    },
    "kernelspec": {
      "name": "python3",
      "display_name": "Python 3"
    },
    "language_info": {
      "name": "python"
    }
  },
  "cells": [
    {
      "cell_type": "markdown",
      "metadata": {
        "id": "view-in-github",
        "colab_type": "text"
      },
      "source": [
        "<a href=\"https://colab.research.google.com/github/Ankyd4011/Challenge/blob/main/Challenge1.ipynb\" target=\"_parent\"><img src=\"https://colab.research.google.com/assets/colab-badge.svg\" alt=\"Open In Colab\"/></a>"
      ]
    },
    {
      "cell_type": "code",
      "execution_count": null,
      "metadata": {
        "colab": {
          "base_uri": "https://localhost:8080/"
        },
        "id": "v4cmC4osgXNO",
        "outputId": "c7003550-b07d-4adc-9a3c-8efde5b1b579"
      },
      "outputs": [
        {
          "output_type": "stream",
          "name": "stdout",
          "text": [
            "['Ram', 1, 'Shyam', 2, 'Aman', 3]\n"
          ]
        }
      ],
      "source": [
        "L = [\"Ram\", 1, \"Shyam\", 2, \"Aman\", 3]\n",
        "print(L)\n",
        "\n"
      ]
    },
    {
      "cell_type": "code",
      "source": [
        "rest=[]\n",
        "x=[]\n",
        "for i in L:\n",
        "  if(isinstance(i,int)):\n",
        "    rest.append(i)\n",
        "  elif(isinstance(i,str)):\n",
        "    x.append(i)\n",
        "\n",
        "rest.sort()\n",
        "x.sort()\n",
        "rest.append(x)\n",
        "print(rest)"
      ],
      "metadata": {
        "colab": {
          "base_uri": "https://localhost:8080/"
        },
        "id": "kLNTbWuXgqA7",
        "outputId": "b669f40b-2f71-46e8-c24b-e74fdb052caf"
      },
      "execution_count": null,
      "outputs": [
        {
          "output_type": "stream",
          "name": "stdout",
          "text": [
            "[1, 2, 3, ['Aman', 'Ram', 'Shyam']]\n"
          ]
        }
      ]
    }
  ]
}